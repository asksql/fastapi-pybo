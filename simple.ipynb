{
 "cells": [
  {
   "cell_type": "code",
   "execution_count": 23,
   "metadata": {},
   "outputs": [],
   "source": [
    "from database import SessionLocal\n",
    "from models import Question\n",
    "from datetime import datetime\n",
    "\n",
    "# db = SessionLocal()\n",
    "# for i in range(300):\n",
    "#     q = Question(subject=\"테스트 데이터입니다:[%03d]\" %i, content=\"내용무\", create_date=datetime.now())\n",
    "#     db.add(q)\n",
    "# db.commit()"
   ]
  },
  {
   "cell_type": "code",
   "execution_count": 24,
   "metadata": {},
   "outputs": [],
   "source": [
    "# secret key 생성\n",
    "# import secrets\n",
    "# secrets.token_hex(32)"
   ]
  },
  {
   "cell_type": "code",
   "execution_count": 36,
   "metadata": {},
   "outputs": [
    {
     "ename": "ImportError",
     "evalue": "cannot import name 'User' from 'models' (c:\\projects\\myapi\\models.py)",
     "output_type": "error",
     "traceback": [
      "\u001b[1;31m---------------------------------------------------------------------------\u001b[0m",
      "\u001b[1;31mImportError\u001b[0m                               Traceback (most recent call last)",
      "Cell \u001b[1;32mIn[36], line 3\u001b[0m\n\u001b[0;32m      1\u001b[0m \u001b[38;5;28;01mfrom\u001b[39;00m \u001b[38;5;21;01mdatabase\u001b[39;00m \u001b[38;5;28;01mimport\u001b[39;00m SessionLocal\n\u001b[0;32m      2\u001b[0m \u001b[38;5;28;01mfrom\u001b[39;00m \u001b[38;5;21;01mmodels\u001b[39;00m \u001b[38;5;28;01mimport\u001b[39;00m Question, Answer\n\u001b[1;32m----> 3\u001b[0m \u001b[38;5;28;01mfrom\u001b[39;00m \u001b[38;5;21;01mmodels\u001b[39;00m \u001b[38;5;28;01mimport\u001b[39;00m User\n\u001b[0;32m      4\u001b[0m db \u001b[38;5;241m=\u001b[39m SessionLocal()\n",
      "\u001b[1;31mImportError\u001b[0m: cannot import name 'User' from 'models' (c:\\projects\\myapi\\models.py)"
     ]
    }
   ],
   "source": [
    "from database import SessionLocal\n",
    "from models import Question, Answer\n",
    "from models import User\n",
    "db = SessionLocal()\n"
   ]
  },
  {
   "cell_type": "code",
   "execution_count": 32,
   "metadata": {},
   "outputs": [
    {
     "data": {
      "text/plain": [
       "1"
      ]
     },
     "execution_count": 32,
     "metadata": {},
     "output_type": "execute_result"
    }
   ],
   "source": [
    "db.query(Question).outerjoin(Answer).filter(\n",
    "    Question.content.ilike('%파이썬%') | \n",
    "    Answer.content.ilike('%파이썬%')).distinct().count()\n"
   ]
  },
  {
   "cell_type": "code",
   "execution_count": 37,
   "metadata": {},
   "outputs": [
    {
     "ename": "NameError",
     "evalue": "name 'User' is not defined",
     "output_type": "error",
     "traceback": [
      "\u001b[1;31m---------------------------------------------------------------------------\u001b[0m",
      "\u001b[1;31mNameError\u001b[0m                                 Traceback (most recent call last)",
      "Cell \u001b[1;32mIn[37], line 1\u001b[0m\n\u001b[1;32m----> 1\u001b[0m sub_query \u001b[38;5;241m=\u001b[39m db\u001b[38;5;241m.\u001b[39mquery(Answer\u001b[38;5;241m.\u001b[39mquestion_id, Answer\u001b[38;5;241m.\u001b[39mcontent, \u001b[43mUser\u001b[49m\u001b[38;5;241m.\u001b[39musername)\\\n\u001b[0;32m      2\u001b[0m     \u001b[38;5;241m.\u001b[39mouterjoin(User, Answer\u001b[38;5;241m.\u001b[39muser_id \u001b[38;5;241m==\u001b[39m User\u001b[38;5;241m.\u001b[39mid)\u001b[38;5;241m.\u001b[39msubquery()\n",
      "\u001b[1;31mNameError\u001b[0m: name 'User' is not defined"
     ]
    }
   ],
   "source": [
    "sub_query = db.query(Answer.question_id, Answer.content, User.username)\\\n",
    "    .outerjoin(User, Answer.user_id == User.id).subquery()"
   ]
  },
  {
   "cell_type": "code",
   "execution_count": 17,
   "metadata": {},
   "outputs": [
    {
     "data": {
      "text/plain": [
       "[(2, '네 자동으로 생성됩니다.'),\n",
       " (2, 'Yes'),\n",
       " (4, '2입니다'),\n",
       " (288, '테스트 답변 '),\n",
       " (289, '아무거나 답변함\\n업데이트 ㄹㄹㄹㄹ'),\n",
       " (305, 'ㅅㄷㄴㅅ1')]"
      ]
     },
     "execution_count": 17,
     "metadata": {},
     "output_type": "execute_result"
    }
   ],
   "source": [
    "db.query(Answer.question_id, Answer.content).all()"
   ]
  },
  {
   "cell_type": "code",
   "execution_count": null,
   "metadata": {},
   "outputs": [],
   "source": []
  }
 ],
 "metadata": {
  "kernelspec": {
   "display_name": ".venv",
   "language": "python",
   "name": "python3"
  },
  "language_info": {
   "codemirror_mode": {
    "name": "ipython",
    "version": 3
   },
   "file_extension": ".py",
   "mimetype": "text/x-python",
   "name": "python",
   "nbconvert_exporter": "python",
   "pygments_lexer": "ipython3",
   "version": "3.11.9"
  }
 },
 "nbformat": 4,
 "nbformat_minor": 2
}
